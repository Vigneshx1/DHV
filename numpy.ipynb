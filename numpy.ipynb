{
  "nbformat": 4,
  "nbformat_minor": 0,
  "metadata": {
    "colab": {
      "provenance": [],
      "authorship_tag": "ABX9TyMTSYhUTzsNAXcaKy3tsHUn",
      "include_colab_link": true
    },
    "kernelspec": {
      "name": "python3",
      "display_name": "Python 3"
    },
    "language_info": {
      "name": "python"
    }
  },
  "cells": [
    {
      "cell_type": "markdown",
      "metadata": {
        "id": "view-in-github",
        "colab_type": "text"
      },
      "source": [
        "<a href=\"https://colab.research.google.com/github/Vigneshx1/DHV/blob/main/numpy.ipynb\" target=\"_parent\"><img src=\"https://colab.research.google.com/assets/colab-badge.svg\" alt=\"Open In Colab\"/></a>"
      ]
    },
    {
      "cell_type": "code",
      "execution_count": 1,
      "metadata": {
        "id": "51ooVPOOKCBW"
      },
      "outputs": [],
      "source": [
        "import pandas as pd\n",
        "import numpy as np"
      ]
    },
    {
      "cell_type": "code",
      "source": [
        "import numpy as np\n",
        "array_1d = np.array([1, 2, 3, 4, 5])\n",
        "print(array_1d.shape)\n",
        "print(array_1d.size)\n",
        "print(array_1d.ndim)\n",
        "print(len(array_1d))\n",
        "array_2d = np.array([[1, 2, 3],\n",
        "                     [4, 5, 6]])\n",
        "print(array_2d.shape)\n",
        "print(array_2d.size)\n",
        "print(array_2d.ndim)\n",
        "print(len(array_2d))\n",
        "array_3d = np.array([[[1, 2, 3],\n",
        "                      [4, 5, 6]],\n",
        "\n",
        "                     [[7, 8, 9],\n",
        "                      [10, 11, 12]]])\n",
        "print(array_3d.shape)\n",
        "print(array_3d.size)\n",
        "print(array_3d.ndim)\n",
        "print(len(array_3d))\n"
      ],
      "metadata": {
        "colab": {
          "base_uri": "https://localhost:8080/"
        },
        "id": "tykmWxhjKXxh",
        "outputId": "fa0637e2-c9dd-48a5-b7d5-88109fe0672d"
      },
      "execution_count": 2,
      "outputs": [
        {
          "output_type": "stream",
          "name": "stdout",
          "text": [
            "(5,)\n",
            "5\n",
            "1\n",
            "5\n",
            "(2, 3)\n",
            "6\n",
            "2\n",
            "2\n",
            "(2, 2, 3)\n",
            "12\n",
            "3\n",
            "2\n"
          ]
        }
      ]
    },
    {
      "cell_type": "code",
      "source": [
        "a_example = np.arange(1, 10, 2)\n",
        "print(a_example)\n",
        "randint_example = np.random.randint(1, 100, size=(3, 3))\n",
        "print(randint_example)\n",
        "rand_example = np.random.rand(2, 3)\n",
        "print(rand_example)\n",
        "lspace_example = np.linspace(1, 10, num=5)\n",
        "print(lspace_example)\n",
        "ones_example = np.ones((2, 3))\n",
        "print(ones_example)\n",
        "zeros_example = np.zeros((3, 2))\n",
        "print(zeros_example)\n",
        "diag_example = np.diag([1, 2, 3])\n",
        "print(diag_example)"
      ],
      "metadata": {
        "colab": {
          "base_uri": "https://localhost:8080/"
        },
        "id": "EaBSmDMIKf_6",
        "outputId": "54331700-60f5-4530-d0ff-94cee1f57fbc"
      },
      "execution_count": 3,
      "outputs": [
        {
          "output_type": "stream",
          "name": "stdout",
          "text": [
            "[1 3 5 7 9]\n",
            "[[93 81 57]\n",
            " [95 12 39]\n",
            " [88 94 82]]\n",
            "[[0.78975369 0.76929742 0.50090362]\n",
            " [0.00674678 0.54976782 0.51723551]]\n",
            "[ 1.    3.25  5.5   7.75 10.  ]\n",
            "[[1. 1. 1.]\n",
            " [1. 1. 1.]]\n",
            "[[0. 0.]\n",
            " [0. 0.]\n",
            " [0. 0.]]\n",
            "[[1 0 0]\n",
            " [0 2 0]\n",
            " [0 0 3]]\n"
          ]
        }
      ]
    },
    {
      "cell_type": "code",
      "source": [
        "\n",
        "marks= np.random.randint(0, 101, size=10)\n",
        "print(marks)"
      ],
      "metadata": {
        "colab": {
          "base_uri": "https://localhost:8080/"
        },
        "id": "-P_HmC5fKjbE",
        "outputId": "6d540352-4af0-4e1e-90c7-574510abb0d0"
      },
      "execution_count": 4,
      "outputs": [
        {
          "output_type": "stream",
          "name": "stdout",
          "text": [
            "[38 60 56 69 84 70 69  1 81 38]\n"
          ]
        }
      ]
    },
    {
      "cell_type": "code",
      "source": [
        "f_marks= marks[marks < 30]\n",
        "print(f_marks)\n"
      ],
      "metadata": {
        "colab": {
          "base_uri": "https://localhost:8080/"
        },
        "id": "VSIjH9R3Kl5J",
        "outputId": "1e7e4129-59bc-4c75-a55b-3dc8a7ec94a5"
      },
      "execution_count": 7,
      "outputs": [
        {
          "output_type": "stream",
          "name": "stdout",
          "text": [
            "[1]\n"
          ]
        }
      ]
    },
    {
      "cell_type": "code",
      "source": [
        "print(f_marks)\n",
        "pmarks=marks[marks>=30]\n",
        "print(pmarks)\n",
        "rows = 3\n",
        "cols = 4\n",
        "random_2d_array = np.random.rand(rows, cols)\n",
        "print(random_2d_array)\n"
      ],
      "metadata": {
        "colab": {
          "base_uri": "https://localhost:8080/"
        },
        "id": "FuIklzQzKogn",
        "outputId": "eeaa58de-e881-4d8c-88c1-cdc7d53ee28b"
      },
      "execution_count": 6,
      "outputs": [
        {
          "output_type": "stream",
          "name": "stdout",
          "text": [
            "[1]\n",
            "[38 60 56 69 84 70 69 81 38]\n",
            "[[0.90328199 0.05403441 0.59894875 0.762566  ]\n",
            " [0.66463444 0.0956257  0.89427572 0.83871741]\n",
            " [0.38920741 0.60329522 0.39068429 0.44860363]]\n"
          ]
        }
      ]
    }
  ]
}